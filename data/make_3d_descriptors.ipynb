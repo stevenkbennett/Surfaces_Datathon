{
 "cells": [
  {
   "cell_type": "markdown",
   "metadata": {},
   "source": [
    "# Make 3D descriptors\n",
    "### Requirements\n",
    "dscribe (only MacOS and Linux)\n",
    "\n",
    "ASE\n",
    "\n",
    "Pandas\n",
    "### Represent database structures as ASE atoms"
   ]
  },
  {
   "cell_type": "code",
   "execution_count": 1,
   "metadata": {},
   "outputs": [],
   "source": [
    "from ase.io import read\n",
    "from ase.build import molecule\n",
    "from ase import Atoms\n",
    "\n",
    "from pathlib import Path"
   ]
  },
  {
   "cell_type": "code",
   "execution_count": 36,
   "metadata": {},
   "outputs": [
    {
     "data": {
      "text/plain": [
       "720"
      ]
     },
     "execution_count": 36,
     "metadata": {},
     "output_type": "execute_result"
    }
   ],
   "source": [
    "structures = [read(str(path)) for path in Path(\"./coordinates\").glob('**/*.xyz')]"
   ]
  },
  {
   "cell_type": "markdown",
   "metadata": {},
   "source": [
    "### Get all species present"
   ]
  },
  {
   "cell_type": "code",
   "execution_count": 3,
   "metadata": {},
   "outputs": [],
   "source": [
    "species = set()\n",
    "for structure in structures:\n",
    "    species.update(structure.get_chemical_symbols())"
   ]
  },
  {
   "cell_type": "markdown",
   "metadata": {},
   "source": [
    "### Define some descriptors"
   ]
  },
  {
   "cell_type": "code",
   "execution_count": 4,
   "metadata": {},
   "outputs": [],
   "source": [
    "from dscribe.descriptors import SOAP"
   ]
  },
  {
   "cell_type": "code",
   "execution_count": 8,
   "metadata": {},
   "outputs": [],
   "source": [
    "soap1 = SOAP(\n",
    "    species=species,\n",
    "    periodic=False,\n",
    "    rcut=5,#cutoff in Angstroms\n",
    "    nmax=8,#number of radial basis functions\n",
    "    lmax=8,#maximum degree of spherical harmonics\n",
    "    average=\"outer\",\n",
    "    sparse=False\n",
    ")\n",
    "soap2 = SOAP(\n",
    "    species=species,\n",
    "    periodic=False,\n",
    "    rcut=3,\n",
    "    nmax=8,\n",
    "    lmax=8,\n",
    "    average=\"outer\",\n",
    "    sparse=False\n",
    ")"
   ]
  },
  {
   "cell_type": "code",
   "execution_count": 9,
   "metadata": {},
   "outputs": [],
   "source": [
    "feature_vectors_1 = soap1.create(structures, n_jobs=1)\n",
    "feature_vectors_2 = soap2.create(structures, n_jobs=1)"
   ]
  },
  {
   "cell_type": "markdown",
   "metadata": {},
   "source": [
    "### Save as csv files"
   ]
  },
  {
   "cell_type": "code",
   "execution_count": 31,
   "metadata": {},
   "outputs": [],
   "source": [
    "import pandas as pd\n",
    "import os\n",
    "import numpy as np"
   ]
  },
  {
   "cell_type": "code",
   "execution_count": 40,
   "metadata": {},
   "outputs": [],
   "source": [
    "index_values = [os.fsdecode(file)[:-4] for file in os.listdir(os.fsencode(\"./coordinates\"))]\n",
    "column_values = [\"SOAP 1\",\"SOAP 2\"]\n",
    "df = pd.DataFrame(data = [[feature_vectors_1[i],feature_vectors_2[i]] for i in range(len(feature_vectors_1))], \n",
    "                  index = index_values, \n",
    "                  columns = column_values)"
   ]
  },
  {
   "cell_type": "code",
   "execution_count": 42,
   "metadata": {},
   "outputs": [],
   "source": [
    "df.to_csv(\"soap_descriptors.csv\")"
   ]
  }
 ],
 "metadata": {
  "kernelspec": {
   "display_name": "Python 3",
   "language": "python",
   "name": "python3"
  },
  "language_info": {
   "codemirror_mode": {
    "name": "ipython",
    "version": 3
   },
   "file_extension": ".py",
   "mimetype": "text/x-python",
   "name": "python",
   "nbconvert_exporter": "python",
   "pygments_lexer": "ipython3",
   "version": "3.8.3"
  }
 },
 "nbformat": 4,
 "nbformat_minor": 2
}
